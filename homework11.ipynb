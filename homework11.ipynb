{
  "nbformat": 4,
  "nbformat_minor": 0,
  "metadata": {
    "colab": {
      "name": "homework11.ipynb",
      "provenance": [],
      "collapsed_sections": [],
      "authorship_tag": "ABX9TyOYMXzhAejpsN3ZhpC0F+Vl",
      "include_colab_link": true
    },
    "kernelspec": {
      "name": "python3",
      "display_name": "Python 3"
    },
    "language_info": {
      "name": "python"
    }
  },
  "cells": [
    {
      "cell_type": "markdown",
      "metadata": {
        "id": "view-in-github",
        "colab_type": "text"
      },
      "source": [
        "<a href=\"https://colab.research.google.com/github/guldencimen/guldencimen/blob/main/homework11.ipynb\" target=\"_parent\"><img src=\"https://colab.research.google.com/assets/colab-badge.svg\" alt=\"Open In Colab\"/></a>"
      ]
    },
    {
      "cell_type": "markdown",
      "metadata": {
        "id": "KKsMQ4bo0xAo"
      },
      "source": [
        "HW-1A: The sum of negative numbers with for and while loops For instance for the input -6 it should return -21\n"
      ]
    },
    {
      "cell_type": "code",
      "metadata": {
        "colab": {
          "base_uri": "https://localhost:8080/"
        },
        "id": "tUa1099u0pXd",
        "outputId": "d0ccecd1-d54f-467a-bfe0-fb2b08585bd1"
      },
      "source": [
        "def summation(num):\n",
        "  if num>=0: \n",
        "   return False\n",
        "  i=0\n",
        "  toplam=0\n",
        "  while num<0:\n",
        "    for i in range (num,1,1) :\n",
        "     toplam=toplam+i\n",
        "    return toplam\n",
        "print(summation(-6))\n",
        "    "
      ],
      "execution_count": null,
      "outputs": [
        {
          "output_type": "stream",
          "text": [
            "-21\n"
          ],
          "name": "stdout"
        }
      ]
    },
    {
      "cell_type": "markdown",
      "metadata": {
        "id": "XA20-wYW4tGc"
      },
      "source": [
        "HW-1B: Write a function that will calculate the positive integers between num1 and num2 with the given incrementation value. For instance, if the number is\n"
      ]
    },
    {
      "cell_type": "code",
      "metadata": {
        "colab": {
          "base_uri": "https://localhost:8080/"
        },
        "id": "9gDT5TqyuBWD",
        "outputId": "874eeeb3-e49d-4921-bf8a-52606bfcf7fe"
      },
      "source": [
        "c=[]\n",
        "def seri(num1,num2,num3):\n",
        "  if num1<0 or num2<0  :\n",
        "   return False\n",
        "  else :\n",
        "   i=num1\n",
        "   while i<=num2:\n",
        "      c.append(i)\n",
        "      i=i+num3\n",
        "  return c\n",
        "print(seri(5,20,4))"
      ],
      "execution_count": null,
      "outputs": [
        {
          "output_type": "stream",
          "text": [
            "[5, 9, 13, 17]\n"
          ],
          "name": "stdout"
        }
      ]
    },
    {
      "cell_type": "markdown",
      "metadata": {
        "id": "zo9wOJlBbYWC"
      },
      "source": [
        "HW-1C: Please write this with for loop.(Factorial)\n",
        "\n"
      ]
    },
    {
      "cell_type": "code",
      "metadata": {
        "colab": {
          "base_uri": "https://localhost:8080/"
        },
        "id": "eU3ZcmrsbapV",
        "outputId": "3ff16a12-8596-48de-a6aa-d47788db5369"
      },
      "source": [
        "def fact (num):\n",
        "  if num<0:\n",
        "    return False\n",
        "  else:\n",
        "    multi=1\n",
        "    for i in range (num,0,-1):\n",
        "      multi=multi*i\n",
        "  return multi\n",
        "print(fact(5))\n",
        "\n"
      ],
      "execution_count": null,
      "outputs": [
        {
          "output_type": "stream",
          "text": [
            "120\n"
          ],
          "name": "stdout"
        }
      ]
    },
    {
      "cell_type": "markdown",
      "metadata": {
        "id": "IKXgZ20GOA6k"
      },
      "source": [
        "HW-1D: Please write a function that will calculate whether the given number is a perfect number."
      ]
    },
    {
      "cell_type": "code",
      "metadata": {
        "colab": {
          "base_uri": "https://localhost:8080/"
        },
        "id": "shQbs57suUwV",
        "outputId": "0fc7f1a1-67f9-4487-baae-4062383590ef"
      },
      "source": [
        "a=[]\n",
        "def is_perfect_number(num):\n",
        " if num <= 0 :\n",
        "     return False\n",
        " while num > 0 :    \n",
        "  for i in range (1,num,1):\n",
        "    if num%i== 0 :\n",
        "       a.append(i)\n",
        "  toplam=0\n",
        "  for j in range (len(a)):           \n",
        "    toplam=toplam+a[j]\n",
        "  if(toplam == num):\n",
        "    return True\n",
        "  else:\n",
        "    return False\n",
        " \n",
        "print(is_perfect_number(6)) \n"
      ],
      "execution_count": null,
      "outputs": [
        {
          "output_type": "stream",
          "text": [
            "True\n"
          ],
          "name": "stdout"
        }
      ]
    }
  ]
}